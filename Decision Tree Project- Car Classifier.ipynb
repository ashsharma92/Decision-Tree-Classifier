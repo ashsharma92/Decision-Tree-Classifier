{
 "cells": [
  {
   "cell_type": "raw",
   "id": "899570ae",
   "metadata": {},
   "source": [
    "##Data Dictionary \n",
    "\n",
    "MPG- Miles Per Gallon\n",
    "cylinders- how many cylinders engine contains\n",
    "cubicinches- space witihn the car\n",
    "hp- horsepower\n",
    "weightlbs-weight in pounds\n",
    "time-to-60- how fast the car is to 60mph\n",
    "year- year it was made\n",
    "brand- US/Europe/Japan"
   ]
  },
  {
   "cell_type": "markdown",
   "id": "8f3bd02f",
   "metadata": {},
   "source": [
    "DATA CLEANING STEPS"
   ]
  },
  {
   "cell_type": "code",
   "execution_count": 1,
   "id": "50585449",
   "metadata": {},
   "outputs": [],
   "source": [
    "import pandas as pd\n",
    "cars_data=pd.read_csv('cars.csv')"
   ]
  },
  {
   "cell_type": "code",
   "execution_count": 2,
   "id": "e327bf53",
   "metadata": {},
   "outputs": [
    {
     "data": {
      "text/html": [
       "<div>\n",
       "<style scoped>\n",
       "    .dataframe tbody tr th:only-of-type {\n",
       "        vertical-align: middle;\n",
       "    }\n",
       "\n",
       "    .dataframe tbody tr th {\n",
       "        vertical-align: top;\n",
       "    }\n",
       "\n",
       "    .dataframe thead th {\n",
       "        text-align: right;\n",
       "    }\n",
       "</style>\n",
       "<table border=\"1\" class=\"dataframe\">\n",
       "  <thead>\n",
       "    <tr style=\"text-align: right;\">\n",
       "      <th></th>\n",
       "      <th>mpg</th>\n",
       "      <th>cylinders</th>\n",
       "      <th>cubicinches</th>\n",
       "      <th>hp</th>\n",
       "      <th>weightlbs</th>\n",
       "      <th>time-to-60</th>\n",
       "      <th>year</th>\n",
       "      <th>brand</th>\n",
       "    </tr>\n",
       "  </thead>\n",
       "  <tbody>\n",
       "    <tr>\n",
       "      <th>0</th>\n",
       "      <td>14.0</td>\n",
       "      <td>8</td>\n",
       "      <td>350</td>\n",
       "      <td>165</td>\n",
       "      <td>4209</td>\n",
       "      <td>12</td>\n",
       "      <td>1972</td>\n",
       "      <td>US.</td>\n",
       "    </tr>\n",
       "    <tr>\n",
       "      <th>1</th>\n",
       "      <td>31.9</td>\n",
       "      <td>4</td>\n",
       "      <td>89</td>\n",
       "      <td>71</td>\n",
       "      <td>1925</td>\n",
       "      <td>14</td>\n",
       "      <td>1980</td>\n",
       "      <td>Europe.</td>\n",
       "    </tr>\n",
       "    <tr>\n",
       "      <th>2</th>\n",
       "      <td>17.0</td>\n",
       "      <td>8</td>\n",
       "      <td>302</td>\n",
       "      <td>140</td>\n",
       "      <td>3449</td>\n",
       "      <td>11</td>\n",
       "      <td>1971</td>\n",
       "      <td>US.</td>\n",
       "    </tr>\n",
       "    <tr>\n",
       "      <th>3</th>\n",
       "      <td>15.0</td>\n",
       "      <td>8</td>\n",
       "      <td>400</td>\n",
       "      <td>150</td>\n",
       "      <td>3761</td>\n",
       "      <td>10</td>\n",
       "      <td>1971</td>\n",
       "      <td>US.</td>\n",
       "    </tr>\n",
       "    <tr>\n",
       "      <th>4</th>\n",
       "      <td>30.5</td>\n",
       "      <td>4</td>\n",
       "      <td>98</td>\n",
       "      <td>63</td>\n",
       "      <td>2051</td>\n",
       "      <td>17</td>\n",
       "      <td>1978</td>\n",
       "      <td>US.</td>\n",
       "    </tr>\n",
       "  </tbody>\n",
       "</table>\n",
       "</div>"
      ],
      "text/plain": [
       "    mpg   cylinders  cubicinches   hp  weightlbs   time-to-60   year     brand\n",
       "0  14.0           8          350  165       4209           12   1972       US.\n",
       "1  31.9           4           89   71       1925           14   1980   Europe.\n",
       "2  17.0           8          302  140       3449           11   1971       US.\n",
       "3  15.0           8          400  150       3761           10   1971       US.\n",
       "4  30.5           4           98   63       2051           17   1978       US."
      ]
     },
     "metadata": {},
     "output_type": "display_data"
    }
   ],
   "source": [
    "display(cars_data.head())"
   ]
  },
  {
   "cell_type": "code",
   "execution_count": 3,
   "id": "4695d4f8",
   "metadata": {},
   "outputs": [
    {
     "name": "stdout",
     "output_type": "stream",
     "text": [
      "Index(['mpg', ' cylinders', ' cubicinches', ' hp', ' weightlbs', ' time-to-60',\n",
      "       ' year', ' brand'],\n",
      "      dtype='object')\n"
     ]
    }
   ],
   "source": [
    "# Print all column names\n",
    "print(cars_data.columns)"
   ]
  },
  {
   "cell_type": "code",
   "execution_count": 4,
   "id": "975dc157",
   "metadata": {},
   "outputs": [],
   "source": [
    "cars_data = cars_data.rename(columns=lambda column_name: column_name.strip())"
   ]
  },
  {
   "cell_type": "code",
   "execution_count": 5,
   "id": "ac95b081",
   "metadata": {},
   "outputs": [
    {
     "name": "stdout",
     "output_type": "stream",
     "text": [
      "Index(['mpg', 'cylinders', 'cubicinches', 'hp', 'weightlbs', 'time-to-60',\n",
      "       'year', 'brand'],\n",
      "      dtype='object')\n"
     ]
    }
   ],
   "source": [
    "print(cars_data.columns)"
   ]
  },
  {
   "cell_type": "code",
   "execution_count": 6,
   "id": "4e079080",
   "metadata": {},
   "outputs": [
    {
     "name": "stdout",
     "output_type": "stream",
     "text": [
      "[' US.' ' Europe.' ' Japan.']\n"
     ]
    }
   ],
   "source": [
    "print(cars_data['brand'].unique())"
   ]
  },
  {
   "cell_type": "code",
   "execution_count": 7,
   "id": "b5b5147c",
   "metadata": {},
   "outputs": [],
   "source": [
    "cars_data['brand'] = cars_data['brand'].str.replace('.', '', regex=False)"
   ]
  },
  {
   "cell_type": "code",
   "execution_count": 8,
   "id": "71fa99d9",
   "metadata": {},
   "outputs": [
    {
     "name": "stdout",
     "output_type": "stream",
     "text": [
      "[' US' ' Europe' ' Japan']\n"
     ]
    }
   ],
   "source": [
    "print(cars_data['brand'].unique())"
   ]
  },
  {
   "cell_type": "code",
   "execution_count": 9,
   "id": "5ee3724b",
   "metadata": {},
   "outputs": [],
   "source": [
    "cars_data['brand'] = cars_data['brand'].str.strip()"
   ]
  },
  {
   "cell_type": "code",
   "execution_count": 10,
   "id": "975742df",
   "metadata": {},
   "outputs": [
    {
     "name": "stdout",
     "output_type": "stream",
     "text": [
      "['US' 'Europe' 'Japan']\n"
     ]
    }
   ],
   "source": [
    "print(cars_data['brand'].unique())"
   ]
  },
  {
   "cell_type": "code",
   "execution_count": 11,
   "id": "437858b7",
   "metadata": {},
   "outputs": [
    {
     "data": {
      "text/plain": [
       "mpg            0\n",
       "cylinders      0\n",
       "cubicinches    0\n",
       "hp             0\n",
       "weightlbs      0\n",
       "time-to-60     0\n",
       "year           0\n",
       "brand          0\n",
       "dtype: int64"
      ]
     },
     "execution_count": 11,
     "metadata": {},
     "output_type": "execute_result"
    }
   ],
   "source": [
    "cars_data.isnull().sum()"
   ]
  },
  {
   "cell_type": "code",
   "execution_count": 12,
   "id": "12d03187",
   "metadata": {},
   "outputs": [
    {
     "name": "stdout",
     "output_type": "stream",
     "text": [
      "<class 'pandas.core.frame.DataFrame'>\n",
      "RangeIndex: 261 entries, 0 to 260\n",
      "Data columns (total 8 columns):\n",
      " #   Column       Non-Null Count  Dtype  \n",
      "---  ------       --------------  -----  \n",
      " 0   mpg          261 non-null    float64\n",
      " 1   cylinders    261 non-null    int64  \n",
      " 2   cubicinches  261 non-null    object \n",
      " 3   hp           261 non-null    int64  \n",
      " 4   weightlbs    261 non-null    object \n",
      " 5   time-to-60   261 non-null    int64  \n",
      " 6   year         261 non-null    int64  \n",
      " 7   brand        261 non-null    object \n",
      "dtypes: float64(1), int64(4), object(3)\n",
      "memory usage: 16.4+ KB\n"
     ]
    }
   ],
   "source": [
    "cars_data.info()"
   ]
  },
  {
   "cell_type": "markdown",
   "id": "d0632d86",
   "metadata": {},
   "source": [
    "SETTING UP THE MODEL"
   ]
  },
  {
   "cell_type": "code",
   "execution_count": 15,
   "id": "8dc221a8",
   "metadata": {},
   "outputs": [],
   "source": [
    "numerical_feature_columns = ['mpg', 'cylinders', 'cubicinches', 'hp', 'weightlbs', 'time-to-60', 'year']"
   ]
  },
  {
   "cell_type": "code",
   "execution_count": 16,
   "id": "18c0431b",
   "metadata": {},
   "outputs": [],
   "source": [
    "for col in numerical_feature_columns:\n",
    "    # Convert column to numeric. 'errors=coerce' will turn non-convertible values into NaN.\n",
    "    cars_data[col] = pd.to_numeric(cars_data[col], errors='coerce')\n"
   ]
  },
  {
   "cell_type": "code",
   "execution_count": 17,
   "id": "e3ece45d",
   "metadata": {},
   "outputs": [
    {
     "name": "stdout",
     "output_type": "stream",
     "text": [
      "<class 'pandas.core.frame.DataFrame'>\n",
      "RangeIndex: 261 entries, 0 to 260\n",
      "Data columns (total 8 columns):\n",
      " #   Column       Non-Null Count  Dtype  \n",
      "---  ------       --------------  -----  \n",
      " 0   mpg          261 non-null    float64\n",
      " 1   cylinders    261 non-null    int64  \n",
      " 2   cubicinches  259 non-null    float64\n",
      " 3   hp           261 non-null    int64  \n",
      " 4   weightlbs    258 non-null    float64\n",
      " 5   time-to-60   261 non-null    int64  \n",
      " 6   year         261 non-null    int64  \n",
      " 7   brand        261 non-null    object \n",
      "dtypes: float64(3), int64(4), object(1)\n",
      "memory usage: 16.4+ KB\n"
     ]
    }
   ],
   "source": [
    "cars_data.info()"
   ]
  },
  {
   "cell_type": "code",
   "execution_count": 18,
   "id": "7eb6d008",
   "metadata": {},
   "outputs": [
    {
     "data": {
      "text/plain": [
       "mpg            0\n",
       "cylinders      0\n",
       "cubicinches    2\n",
       "hp             0\n",
       "weightlbs      3\n",
       "time-to-60     0\n",
       "year           0\n",
       "brand          0\n",
       "dtype: int64"
      ]
     },
     "execution_count": 18,
     "metadata": {},
     "output_type": "execute_result"
    }
   ],
   "source": [
    "cars_data.isnull().sum()"
   ]
  },
  {
   "cell_type": "code",
   "execution_count": 19,
   "id": "1a6cb85e",
   "metadata": {},
   "outputs": [],
   "source": [
    "cars_data_cleaned = cars_data.dropna()"
   ]
  },
  {
   "cell_type": "code",
   "execution_count": 20,
   "id": "154c7eb4",
   "metadata": {},
   "outputs": [
    {
     "name": "stdout",
     "output_type": "stream",
     "text": [
      "<class 'pandas.core.frame.DataFrame'>\n",
      "Int64Index: 256 entries, 0 to 260\n",
      "Data columns (total 8 columns):\n",
      " #   Column       Non-Null Count  Dtype  \n",
      "---  ------       --------------  -----  \n",
      " 0   mpg          256 non-null    float64\n",
      " 1   cylinders    256 non-null    int64  \n",
      " 2   cubicinches  256 non-null    float64\n",
      " 3   hp           256 non-null    int64  \n",
      " 4   weightlbs    256 non-null    float64\n",
      " 5   time-to-60   256 non-null    int64  \n",
      " 6   year         256 non-null    int64  \n",
      " 7   brand        256 non-null    object \n",
      "dtypes: float64(3), int64(4), object(1)\n",
      "memory usage: 18.0+ KB\n"
     ]
    }
   ],
   "source": [
    "cars_data_cleaned.info()"
   ]
  },
  {
   "cell_type": "code",
   "execution_count": 21,
   "id": "3d4d119b",
   "metadata": {},
   "outputs": [],
   "source": [
    "cars_data_filtered = cars_data_cleaned[cars_data_cleaned['brand'].isin(['US', 'Europe', 'Japan'])]"
   ]
  },
  {
   "cell_type": "markdown",
   "id": "2f2a7ac5",
   "metadata": {},
   "source": [
    "SETTING UP THE MODEL (DEPTH =1)"
   ]
  },
  {
   "cell_type": "code",
   "execution_count": 22,
   "id": "415eac5c",
   "metadata": {},
   "outputs": [],
   "source": [
    "#train and test data set\n",
    "\n",
    "X= cars_data_filtered[['mpg', 'cylinders', 'cubicinches', 'hp', 'weightlbs', 'time-to-60',\n",
    "       'year']] #features\n",
    "\n",
    "y= (cars_data_filtered['brand']=='US') #0 if not US, 1 if US\n",
    "\n"
   ]
  },
  {
   "cell_type": "code",
   "execution_count": 23,
   "id": "e26184c9",
   "metadata": {},
   "outputs": [
    {
     "name": "stderr",
     "output_type": "stream",
     "text": [
      "C:\\Users\\ashish.sharma\\anaconda3\\lib\\site-packages\\scipy\\__init__.py:155: UserWarning: A NumPy version >=1.18.5 and <1.25.0 is required for this version of SciPy (detected version 1.26.4\n",
      "  warnings.warn(f\"A NumPy version >={np_minversion} and <{np_maxversion}\"\n"
     ]
    }
   ],
   "source": [
    "from sklearn.tree import DecisionTreeClassifier\n",
    "\n",
    "tree= DecisionTreeClassifier(max_depth=1).fit(X,y)"
   ]
  },
  {
   "cell_type": "code",
   "execution_count": 24,
   "id": "2df19559",
   "metadata": {},
   "outputs": [
    {
     "data": {
      "text/plain": [
       "[Text(0.5, 0.75, 'X[2] <= 134.5\\ngini = 0.473\\nsamples = 256\\nvalue = [98, 158]'),\n",
       " Text(0.25, 0.25, 'gini = 0.32\\nsamples = 110\\nvalue = [88, 22]'),\n",
       " Text(0.75, 0.25, 'gini = 0.128\\nsamples = 146\\nvalue = [10, 136]')]"
      ]
     },
     "execution_count": 24,
     "metadata": {},
     "output_type": "execute_result"
    },
    {
     "data": {
      "image/png": "[encoded data removed]",
      "text/plain": [
       "<Figure size 640x480 with 1 Axes>"
      ]
     },
     "metadata": {},
     "output_type": "display_data"
    }
   ],
   "source": [
    "from sklearn.tree import plot_tree\n",
    "plot_tree(tree)"
   ]
  },
  {
   "cell_type": "code",
   "execution_count": 25,
   "id": "19adc080",
   "metadata": {},
   "outputs": [
    {
     "data": {
      "text/plain": [
       "0.8578431372549019"
      ]
     },
     "execution_count": 25,
     "metadata": {},
     "output_type": "execute_result"
    }
   ],
   "source": [
    "from sklearn.model_selection import train_test_split\n",
    "from sklearn.metrics import accuracy_score\n",
    "\n",
    "X_train, X_test, y_train, y_test= train_test_split(X,y,test_size=0.2, random_state=42)\n",
    "tree= DecisionTreeClassifier(max_depth=1).fit(X,y)\n",
    "\n",
    "accuracy_score(y_train, tree.predict(X_train))\n"
   ]
  },
  {
   "cell_type": "code",
   "execution_count": 26,
   "id": "7348d46f",
   "metadata": {},
   "outputs": [
    {
     "data": {
      "text/plain": [
       "0.9423076923076923"
      ]
     },
     "execution_count": 26,
     "metadata": {},
     "output_type": "execute_result"
    }
   ],
   "source": [
    "accuracy_score(y_test, tree.predict(X_test))"
   ]
  },
  {
   "cell_type": "markdown",
   "id": "fbbb9d39",
   "metadata": {},
   "source": [
    "SETTING UP MODEL FOR DEPTH=2"
   ]
  },
  {
   "cell_type": "code",
   "execution_count": 27,
   "id": "31250c93",
   "metadata": {},
   "outputs": [],
   "source": [
    "tree2= DecisionTreeClassifier(max_depth=2).fit(X,y)"
   ]
  },
  {
   "cell_type": "code",
   "execution_count": 28,
   "id": "e74e21f7",
   "metadata": {},
   "outputs": [
    {
     "data": {
      "text/plain": [
       "[Text(0.5, 0.8333333333333334, 'X[2] <= 134.5\\ngini = 0.473\\nsamples = 256\\nvalue = [98, 158]'),\n",
       " Text(0.25, 0.5, 'X[6] <= 1982.5\\ngini = 0.32\\nsamples = 110\\nvalue = [88, 22]'),\n",
       " Text(0.125, 0.16666666666666666, 'gini = 0.267\\nsamples = 101\\nvalue = [85, 16]'),\n",
       " Text(0.375, 0.16666666666666666, 'gini = 0.444\\nsamples = 9\\nvalue = [3, 6]'),\n",
       " Text(0.75, 0.5, 'X[2] <= 190.5\\ngini = 0.128\\nsamples = 146\\nvalue = [10, 136]'),\n",
       " Text(0.625, 0.16666666666666666, 'gini = 0.444\\nsamples = 30\\nvalue = [10, 20]'),\n",
       " Text(0.875, 0.16666666666666666, 'gini = 0.0\\nsamples = 116\\nvalue = [0, 116]')]"
      ]
     },
     "execution_count": 28,
     "metadata": {},
     "output_type": "execute_result"
    },
    {
     "data": {
      "image/png": "[encoded data removed]",
      "text/plain": [
       "<Figure size 640x480 with 1 Axes>"
      ]
     },
     "metadata": {},
     "output_type": "display_data"
    }
   ],
   "source": [
    "from sklearn.tree import plot_tree\n",
    "plot_tree(tree2)"
   ]
  },
  {
   "cell_type": "code",
   "execution_count": 29,
   "id": "7687a63b",
   "metadata": {},
   "outputs": [
    {
     "data": {
      "text/plain": [
       "0.8725490196078431"
      ]
     },
     "execution_count": 29,
     "metadata": {},
     "output_type": "execute_result"
    }
   ],
   "source": [
    "from sklearn.model_selection import train_test_split\n",
    "from sklearn.metrics import accuracy_score\n",
    "\n",
    "X_train_2, X_test_2, y_train_2, y_test_2= train_test_split(X,y,test_size=0.2, random_state=42)\n",
    "tree2= DecisionTreeClassifier(max_depth=2).fit(X,y)\n",
    "\n",
    "accuracy_score(y_train_2, tree2.predict(X_train_2))"
   ]
  },
  {
   "cell_type": "code",
   "execution_count": 30,
   "id": "def06786",
   "metadata": {},
   "outputs": [
    {
     "data": {
      "text/plain": [
       "0.9423076923076923"
      ]
     },
     "execution_count": 30,
     "metadata": {},
     "output_type": "execute_result"
    }
   ],
   "source": [
    "accuracy_score(y_test_2, tree2.predict(X_test_2))"
   ]
  },
  {
   "cell_type": "code",
   "execution_count": null,
   "id": "a9fbc951",
   "metadata": {},
   "outputs": [],
   "source": []
  }
 ],
 "metadata": {
  "kernelspec": {
   "display_name": "Python 3 (ipykernel)",
   "language": "python",
   "name": "python3"
  },
  "language_info": {
   "codemirror_mode": {
    "name": "ipython",
    "version": 3
   },
   "file_extension": ".py",
   "mimetype": "text/x-python",
   "name": "python",
   "nbconvert_exporter": "python",
   "pygments_lexer": "ipython3",
   "version": "3.9.13"
  }
 },
 "nbformat": 4,
 "nbformat_minor": 5
}
